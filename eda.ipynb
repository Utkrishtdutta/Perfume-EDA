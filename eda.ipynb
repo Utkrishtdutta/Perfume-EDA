{
 "cells": [
  {
   "cell_type": "code",
   "execution_count": 184,
   "metadata": {},
   "outputs": [],
   "source": [
    "import pandas as pd\n",
    "import numpy as np\n",
    "import seaborn as sns\n",
    "import matplotlib.pyplot as plt"
   ]
  },
  {
   "cell_type": "code",
   "execution_count": 108,
   "metadata": {},
   "outputs": [
    {
     "data": {
      "text/plain": [
       "((1000, 10), (1000, 10))"
      ]
     },
     "execution_count": 108,
     "metadata": {},
     "output_type": "execute_result"
    }
   ],
   "source": [
    "man_perfume = pd.read_csv('ebay_mens_perfume.csv')\n",
    "woman_perfume = pd.read_csv('ebay_womens_perfume.csv')\n",
    "\n",
    "man_perfume.shape, woman_perfume.shape"
   ]
  },
  {
   "cell_type": "code",
   "execution_count": 109,
   "metadata": {},
   "outputs": [
    {
     "data": {
      "text/html": [
       "<div>\n",
       "<style scoped>\n",
       "    .dataframe tbody tr th:only-of-type {\n",
       "        vertical-align: middle;\n",
       "    }\n",
       "\n",
       "    .dataframe tbody tr th {\n",
       "        vertical-align: top;\n",
       "    }\n",
       "\n",
       "    .dataframe thead th {\n",
       "        text-align: right;\n",
       "    }\n",
       "</style>\n",
       "<table border=\"1\" class=\"dataframe\">\n",
       "  <thead>\n",
       "    <tr style=\"text-align: right;\">\n",
       "      <th></th>\n",
       "      <th>brand</th>\n",
       "      <th>title</th>\n",
       "      <th>type</th>\n",
       "      <th>price</th>\n",
       "      <th>priceWithCurrency</th>\n",
       "      <th>available</th>\n",
       "      <th>availableText</th>\n",
       "      <th>sold</th>\n",
       "      <th>lastUpdated</th>\n",
       "      <th>itemLocation</th>\n",
       "    </tr>\n",
       "  </thead>\n",
       "  <tbody>\n",
       "    <tr>\n",
       "      <th>0</th>\n",
       "      <td>Dior</td>\n",
       "      <td>Christian Dior Sauvage Men's EDP 3.4 oz Fragra...</td>\n",
       "      <td>Eau de Parfum</td>\n",
       "      <td>84.99</td>\n",
       "      <td>US $84.99/ea</td>\n",
       "      <td>10.0</td>\n",
       "      <td>More than 10 available / 116 sold</td>\n",
       "      <td>116.0</td>\n",
       "      <td>May 24, 2024 10:03:04 PDT</td>\n",
       "      <td>Allen Park, Michigan, United States</td>\n",
       "    </tr>\n",
       "    <tr>\n",
       "      <th>1</th>\n",
       "      <td>AS SHOW</td>\n",
       "      <td>A-v-entus Eau de Parfum 3.3 oz 100ML Millesime...</td>\n",
       "      <td>Eau de Parfum</td>\n",
       "      <td>109.99</td>\n",
       "      <td>US $109.99</td>\n",
       "      <td>8.0</td>\n",
       "      <td>8 available / 48 sold</td>\n",
       "      <td>48.0</td>\n",
       "      <td>May 23, 2024 23:07:49 PDT</td>\n",
       "      <td>Atlanta, Georgia, Canada</td>\n",
       "    </tr>\n",
       "    <tr>\n",
       "      <th>2</th>\n",
       "      <td>Unbranded</td>\n",
       "      <td>HOGO BOSS cologne For Men 3.4 oz</td>\n",
       "      <td>Eau de Toilette</td>\n",
       "      <td>100.00</td>\n",
       "      <td>US $100.00</td>\n",
       "      <td>10.0</td>\n",
       "      <td>More than 10 available / 27 sold</td>\n",
       "      <td>27.0</td>\n",
       "      <td>May 22, 2024 21:55:43 PDT</td>\n",
       "      <td>Dearborn, Michigan, United States</td>\n",
       "    </tr>\n",
       "    <tr>\n",
       "      <th>3</th>\n",
       "      <td>Giorgio Armani</td>\n",
       "      <td>Acqua Di Gio by Giorgio Armani 6.7 Fl oz Eau D...</td>\n",
       "      <td>Eau de Toilette</td>\n",
       "      <td>44.99</td>\n",
       "      <td>US $44.99/ea</td>\n",
       "      <td>2.0</td>\n",
       "      <td>2 available / 159 sold</td>\n",
       "      <td>159.0</td>\n",
       "      <td>May 24, 2024 03:30:43 PDT</td>\n",
       "      <td>Reinholds, Pennsylvania, United States</td>\n",
       "    </tr>\n",
       "    <tr>\n",
       "      <th>4</th>\n",
       "      <td>Lattafa</td>\n",
       "      <td>Lattafa Men's Hayaati Al Maleky EDP Spray 3.4 ...</td>\n",
       "      <td>Fragrances</td>\n",
       "      <td>16.91</td>\n",
       "      <td>US $16.91</td>\n",
       "      <td>NaN</td>\n",
       "      <td>Limited quantity available / 156 sold</td>\n",
       "      <td>156.0</td>\n",
       "      <td>May 24, 2024 07:56:25 PDT</td>\n",
       "      <td>Brooklyn, New York, United States</td>\n",
       "    </tr>\n",
       "  </tbody>\n",
       "</table>\n",
       "</div>"
      ],
      "text/plain": [
       "            brand                                              title  \\\n",
       "0            Dior  Christian Dior Sauvage Men's EDP 3.4 oz Fragra...   \n",
       "1         AS SHOW  A-v-entus Eau de Parfum 3.3 oz 100ML Millesime...   \n",
       "2       Unbranded                   HOGO BOSS cologne For Men 3.4 oz   \n",
       "3  Giorgio Armani  Acqua Di Gio by Giorgio Armani 6.7 Fl oz Eau D...   \n",
       "4         Lattafa  Lattafa Men's Hayaati Al Maleky EDP Spray 3.4 ...   \n",
       "\n",
       "              type   price priceWithCurrency  available  \\\n",
       "0    Eau de Parfum   84.99      US $84.99/ea       10.0   \n",
       "1    Eau de Parfum  109.99        US $109.99        8.0   \n",
       "2  Eau de Toilette  100.00        US $100.00       10.0   \n",
       "3  Eau de Toilette   44.99      US $44.99/ea        2.0   \n",
       "4       Fragrances   16.91         US $16.91        NaN   \n",
       "\n",
       "                           availableText   sold                lastUpdated  \\\n",
       "0      More than 10 available / 116 sold  116.0  May 24, 2024 10:03:04 PDT   \n",
       "1                  8 available / 48 sold   48.0  May 23, 2024 23:07:49 PDT   \n",
       "2       More than 10 available / 27 sold   27.0  May 22, 2024 21:55:43 PDT   \n",
       "3                 2 available / 159 sold  159.0  May 24, 2024 03:30:43 PDT   \n",
       "4  Limited quantity available / 156 sold  156.0  May 24, 2024 07:56:25 PDT   \n",
       "\n",
       "                             itemLocation  \n",
       "0     Allen Park, Michigan, United States  \n",
       "1                Atlanta, Georgia, Canada  \n",
       "2       Dearborn, Michigan, United States  \n",
       "3  Reinholds, Pennsylvania, United States  \n",
       "4       Brooklyn, New York, United States  "
      ]
     },
     "execution_count": 109,
     "metadata": {},
     "output_type": "execute_result"
    }
   ],
   "source": [
    "man_perfume.head()"
   ]
  },
  {
   "cell_type": "code",
   "execution_count": 110,
   "metadata": {},
   "outputs": [
    {
     "data": {
      "text/html": [
       "<div>\n",
       "<style scoped>\n",
       "    .dataframe tbody tr th:only-of-type {\n",
       "        vertical-align: middle;\n",
       "    }\n",
       "\n",
       "    .dataframe tbody tr th {\n",
       "        vertical-align: top;\n",
       "    }\n",
       "\n",
       "    .dataframe thead th {\n",
       "        text-align: right;\n",
       "    }\n",
       "</style>\n",
       "<table border=\"1\" class=\"dataframe\">\n",
       "  <thead>\n",
       "    <tr style=\"text-align: right;\">\n",
       "      <th></th>\n",
       "      <th>brand</th>\n",
       "      <th>title</th>\n",
       "      <th>type</th>\n",
       "      <th>price</th>\n",
       "      <th>priceWithCurrency</th>\n",
       "      <th>available</th>\n",
       "      <th>availableText</th>\n",
       "      <th>sold</th>\n",
       "      <th>lastUpdated</th>\n",
       "      <th>itemLocation</th>\n",
       "    </tr>\n",
       "  </thead>\n",
       "  <tbody>\n",
       "    <tr>\n",
       "      <th>0</th>\n",
       "      <td>Carolina Herrera</td>\n",
       "      <td>Good Girl by Carolina Herrera 2.7 oz Eau De Pa...</td>\n",
       "      <td>Eau de Parfum</td>\n",
       "      <td>43.99</td>\n",
       "      <td>US $43.99/ea</td>\n",
       "      <td>2.0</td>\n",
       "      <td>2 available / 393 sold</td>\n",
       "      <td>393.0</td>\n",
       "      <td>May 23, 2024 10:43:50 PDT</td>\n",
       "      <td>Thomasville, Alabama, United States</td>\n",
       "    </tr>\n",
       "    <tr>\n",
       "      <th>1</th>\n",
       "      <td>As Shown</td>\n",
       "      <td>Parfums de Marly Delina La Rosee Eau de Parfum...</td>\n",
       "      <td>Eau de Parfum</td>\n",
       "      <td>79.99</td>\n",
       "      <td>US $79.99</td>\n",
       "      <td>5.0</td>\n",
       "      <td>5 available / 40 sold</td>\n",
       "      <td>40.0</td>\n",
       "      <td>May 24, 2024 00:15:48 PDT</td>\n",
       "      <td>New Jersey, Hong Kong</td>\n",
       "    </tr>\n",
       "    <tr>\n",
       "      <th>2</th>\n",
       "      <td>PRADA</td>\n",
       "      <td>PRADA Paradoxe by Prada EDP 3.0oz/90ml Spray P...</td>\n",
       "      <td>Eau de Parfum</td>\n",
       "      <td>59.99</td>\n",
       "      <td>US $59.99</td>\n",
       "      <td>10.0</td>\n",
       "      <td>More than 10 available / 35 sold</td>\n",
       "      <td>35.0</td>\n",
       "      <td>May 14, 2024 20:54:25 PDT</td>\n",
       "      <td>Orange, New Jersey, United States</td>\n",
       "    </tr>\n",
       "    <tr>\n",
       "      <th>3</th>\n",
       "      <td>As Show</td>\n",
       "      <td>J'adore Parfum D'eau by Christian 3.4 oz EDP F...</td>\n",
       "      <td>Eau de Parfum</td>\n",
       "      <td>59.99</td>\n",
       "      <td>US $59.99/ea</td>\n",
       "      <td>10.0</td>\n",
       "      <td>More than 10 available / 9 sold</td>\n",
       "      <td>9.0</td>\n",
       "      <td>May 23, 2024 01:23:05 PDT</td>\n",
       "      <td>USA, New Jersey, Hong Kong</td>\n",
       "    </tr>\n",
       "    <tr>\n",
       "      <th>4</th>\n",
       "      <td>Khadlaj</td>\n",
       "      <td>Shiyaaka for Men EDP Spray 100ML (3.4 FL.OZ) B...</td>\n",
       "      <td>Eau de Parfum</td>\n",
       "      <td>29.99</td>\n",
       "      <td>US $29.99/ea</td>\n",
       "      <td>10.0</td>\n",
       "      <td>More than 10 available</td>\n",
       "      <td>NaN</td>\n",
       "      <td>NaN</td>\n",
       "      <td>Little Ferry, New Jersey, United States</td>\n",
       "    </tr>\n",
       "  </tbody>\n",
       "</table>\n",
       "</div>"
      ],
      "text/plain": [
       "              brand                                              title  \\\n",
       "0  Carolina Herrera  Good Girl by Carolina Herrera 2.7 oz Eau De Pa...   \n",
       "1          As Shown  Parfums de Marly Delina La Rosee Eau de Parfum...   \n",
       "2             PRADA  PRADA Paradoxe by Prada EDP 3.0oz/90ml Spray P...   \n",
       "3           As Show  J'adore Parfum D'eau by Christian 3.4 oz EDP F...   \n",
       "4           Khadlaj  Shiyaaka for Men EDP Spray 100ML (3.4 FL.OZ) B...   \n",
       "\n",
       "            type  price priceWithCurrency  available  \\\n",
       "0  Eau de Parfum  43.99      US $43.99/ea        2.0   \n",
       "1  Eau de Parfum  79.99         US $79.99        5.0   \n",
       "2  Eau de Parfum  59.99         US $59.99       10.0   \n",
       "3  Eau de Parfum  59.99      US $59.99/ea       10.0   \n",
       "4  Eau de Parfum  29.99      US $29.99/ea       10.0   \n",
       "\n",
       "                      availableText   sold                lastUpdated  \\\n",
       "0            2 available / 393 sold  393.0  May 23, 2024 10:43:50 PDT   \n",
       "1             5 available / 40 sold   40.0  May 24, 2024 00:15:48 PDT   \n",
       "2  More than 10 available / 35 sold   35.0  May 14, 2024 20:54:25 PDT   \n",
       "3   More than 10 available / 9 sold    9.0  May 23, 2024 01:23:05 PDT   \n",
       "4            More than 10 available    NaN                        NaN   \n",
       "\n",
       "                              itemLocation  \n",
       "0      Thomasville, Alabama, United States  \n",
       "1                    New Jersey, Hong Kong  \n",
       "2        Orange, New Jersey, United States  \n",
       "3               USA, New Jersey, Hong Kong  \n",
       "4  Little Ferry, New Jersey, United States  "
      ]
     },
     "execution_count": 110,
     "metadata": {},
     "output_type": "execute_result"
    }
   ],
   "source": [
    "woman_perfume.head()"
   ]
  },
  {
   "cell_type": "code",
   "execution_count": 111,
   "metadata": {},
   "outputs": [
    {
     "name": "stdout",
     "output_type": "stream",
     "text": [
      "<class 'pandas.core.frame.DataFrame'>\n",
      "RangeIndex: 1000 entries, 0 to 999\n",
      "Data columns (total 10 columns):\n",
      " #   Column             Non-Null Count  Dtype  \n",
      "---  ------             --------------  -----  \n",
      " 0   brand              999 non-null    object \n",
      " 1   title              1000 non-null   object \n",
      " 2   type               997 non-null    object \n",
      " 3   price              1000 non-null   float64\n",
      " 4   priceWithCurrency  1000 non-null   object \n",
      " 5   available          889 non-null    float64\n",
      " 6   availableText      997 non-null    object \n",
      " 7   sold               994 non-null    float64\n",
      " 8   lastUpdated        947 non-null    object \n",
      " 9   itemLocation       1000 non-null   object \n",
      "dtypes: float64(3), object(7)\n",
      "memory usage: 78.3+ KB\n",
      "<class 'pandas.core.frame.DataFrame'>\n",
      "RangeIndex: 1000 entries, 0 to 999\n",
      "Data columns (total 10 columns):\n",
      " #   Column             Non-Null Count  Dtype  \n",
      "---  ------             --------------  -----  \n",
      " 0   brand              999 non-null    object \n",
      " 1   title              1000 non-null   object \n",
      " 2   type               998 non-null    object \n",
      " 3   price              1000 non-null   float64\n",
      " 4   priceWithCurrency  1000 non-null   object \n",
      " 5   available          869 non-null    float64\n",
      " 6   availableText      992 non-null    object \n",
      " 7   sold               984 non-null    float64\n",
      " 8   lastUpdated        927 non-null    object \n",
      " 9   itemLocation       1000 non-null   object \n",
      "dtypes: float64(3), object(7)\n",
      "memory usage: 78.3+ KB\n"
     ]
    },
    {
     "data": {
      "text/plain": [
       "(None, None)"
      ]
     },
     "execution_count": 111,
     "metadata": {},
     "output_type": "execute_result"
    }
   ],
   "source": [
    "man_perfume.info() , woman_perfume.info()"
   ]
  },
  {
   "cell_type": "code",
   "execution_count": 112,
   "metadata": {},
   "outputs": [
    {
     "data": {
      "text/plain": [
       "Index(['brand', 'title', 'type', 'price', 'priceWithCurrency', 'available',\n",
       "       'availableText', 'sold', 'lastUpdated', 'itemLocation'],\n",
       "      dtype='object')"
      ]
     },
     "execution_count": 112,
     "metadata": {},
     "output_type": "execute_result"
    }
   ],
   "source": [
    "man_perfume.columns"
   ]
  },
  {
   "cell_type": "code",
   "execution_count": 113,
   "metadata": {},
   "outputs": [
    {
     "data": {
      "text/html": [
       "<div>\n",
       "<style scoped>\n",
       "    .dataframe tbody tr th:only-of-type {\n",
       "        vertical-align: middle;\n",
       "    }\n",
       "\n",
       "    .dataframe tbody tr th {\n",
       "        vertical-align: top;\n",
       "    }\n",
       "\n",
       "    .dataframe thead th {\n",
       "        text-align: right;\n",
       "    }\n",
       "</style>\n",
       "<table border=\"1\" class=\"dataframe\">\n",
       "  <thead>\n",
       "    <tr style=\"text-align: right;\">\n",
       "      <th></th>\n",
       "      <th>brand</th>\n",
       "      <th>title</th>\n",
       "      <th>type</th>\n",
       "      <th>price</th>\n",
       "      <th>priceWithCurrency</th>\n",
       "      <th>available</th>\n",
       "      <th>availableText</th>\n",
       "      <th>sold</th>\n",
       "      <th>lastUpdated</th>\n",
       "      <th>itemLocation</th>\n",
       "    </tr>\n",
       "  </thead>\n",
       "  <tbody>\n",
       "    <tr>\n",
       "      <th>0</th>\n",
       "      <td>Dior</td>\n",
       "      <td>Christian Dior Sauvage Men's EDP 3.4 oz Fragra...</td>\n",
       "      <td>Eau de Parfum</td>\n",
       "      <td>84.99</td>\n",
       "      <td>US $84.99/ea</td>\n",
       "      <td>10.0</td>\n",
       "      <td>More than 10 available / 116 sold</td>\n",
       "      <td>116.0</td>\n",
       "      <td>May 24, 2024 10:03:04 PDT</td>\n",
       "      <td>Allen Park, Michigan, United States</td>\n",
       "    </tr>\n",
       "    <tr>\n",
       "      <th>19</th>\n",
       "      <td>Dior</td>\n",
       "      <td>Dior Sauvage Eau de Toilette 3.4 Oz 100ml Bran...</td>\n",
       "      <td>Eau de Toilette</td>\n",
       "      <td>83.95</td>\n",
       "      <td>US $83.95</td>\n",
       "      <td>4.0</td>\n",
       "      <td>4 available / 22 sold</td>\n",
       "      <td>22.0</td>\n",
       "      <td>May 22, 2024 14:31:55 PDT</td>\n",
       "      <td>Elmhurst, New York, United States</td>\n",
       "    </tr>\n",
       "    <tr>\n",
       "      <th>62</th>\n",
       "      <td>Dior</td>\n",
       "      <td>Sauvage Dior Eau De Parfum MINATURE 10ml / 0.3...</td>\n",
       "      <td>Eau de Parfum</td>\n",
       "      <td>25.99</td>\n",
       "      <td>US $25.99/ea</td>\n",
       "      <td>6.0</td>\n",
       "      <td>6 available / 1,332 sold</td>\n",
       "      <td>1332.0</td>\n",
       "      <td>May 24, 2024 04:03:31 PDT</td>\n",
       "      <td>Cranston, Rhode Island, United States</td>\n",
       "    </tr>\n",
       "    <tr>\n",
       "      <th>103</th>\n",
       "      <td>Dior</td>\n",
       "      <td>Dior Sauvage EDP Men's Fragrance 3.4 Oz New Se...</td>\n",
       "      <td>Eau de Parfum</td>\n",
       "      <td>84.99</td>\n",
       "      <td>US $84.99/ea</td>\n",
       "      <td>5.0</td>\n",
       "      <td>5 available / 73 sold</td>\n",
       "      <td>73.0</td>\n",
       "      <td>May 22, 2024 09:32:15 PDT</td>\n",
       "      <td>Detroit, Michigan, United States</td>\n",
       "    </tr>\n",
       "    <tr>\n",
       "      <th>236</th>\n",
       "      <td>Dior</td>\n",
       "      <td>Dior SAUVAGE by Christian Dior EDT Men 100 ml ...</td>\n",
       "      <td>Eau de Toilette</td>\n",
       "      <td>84.99</td>\n",
       "      <td>US $84.99/ea</td>\n",
       "      <td>9.0</td>\n",
       "      <td>9 available / 16 sold</td>\n",
       "      <td>16.0</td>\n",
       "      <td>May 24, 2024 05:54:57 PDT</td>\n",
       "      <td>Warren, Michigan, United States</td>\n",
       "    </tr>\n",
       "    <tr>\n",
       "      <th>283</th>\n",
       "      <td>Dior</td>\n",
       "      <td>Dior Sauvage Eau de Toilette 3.4 Oz 100ml Bran...</td>\n",
       "      <td>Eau de Toilette</td>\n",
       "      <td>84.99</td>\n",
       "      <td>US $84.99/ea</td>\n",
       "      <td>9.0</td>\n",
       "      <td>9 available / 13 sold</td>\n",
       "      <td>13.0</td>\n",
       "      <td>May 22, 2024 05:35:53 PDT</td>\n",
       "      <td>Warren, Michigan, United States</td>\n",
       "    </tr>\n",
       "    <tr>\n",
       "      <th>286</th>\n",
       "      <td>Dior</td>\n",
       "      <td>Dior SAUVAGE by Christian Dior EDT Men 100 ml ...</td>\n",
       "      <td>Eau de Toilette</td>\n",
       "      <td>84.99</td>\n",
       "      <td>US $84.99/ea</td>\n",
       "      <td>10.0</td>\n",
       "      <td>More than 10 available / 51 sold</td>\n",
       "      <td>51.0</td>\n",
       "      <td>May 06, 2024 04:40:12 PDT</td>\n",
       "      <td>Sterling Heights, Michigan, United States</td>\n",
       "    </tr>\n",
       "    <tr>\n",
       "      <th>375</th>\n",
       "      <td>Dior</td>\n",
       "      <td>Fahrenheit by Christian Dior 3.4 oz EDT Cologn...</td>\n",
       "      <td>Eau de Toilette</td>\n",
       "      <td>89.98</td>\n",
       "      <td>US $89.98/ea</td>\n",
       "      <td>8.0</td>\n",
       "      <td>8 available / 1,243 sold</td>\n",
       "      <td>1243.0</td>\n",
       "      <td>May 22, 2024 01:59:02 PDT</td>\n",
       "      <td>Hackensack, New Jersey, United States</td>\n",
       "    </tr>\n",
       "    <tr>\n",
       "      <th>492</th>\n",
       "      <td>Dior</td>\n",
       "      <td>DIOR HOMME COLOGNE EAU DE TOILETTE SPRAY 4.2 O...</td>\n",
       "      <td>DIOR HOMME COLOGNE</td>\n",
       "      <td>89.99</td>\n",
       "      <td>US $89.99</td>\n",
       "      <td>7.0</td>\n",
       "      <td>7 available / 129 sold</td>\n",
       "      <td>129.0</td>\n",
       "      <td>May 22, 2024 09:17:01 PDT</td>\n",
       "      <td>Union, New Jersey, United States</td>\n",
       "    </tr>\n",
       "    <tr>\n",
       "      <th>557</th>\n",
       "      <td>Dior</td>\n",
       "      <td>Eau Sauvage by Christian Dior cologne for men ...</td>\n",
       "      <td>Eau de Toilette</td>\n",
       "      <td>67.99</td>\n",
       "      <td>US $67.99/ea</td>\n",
       "      <td>5.0</td>\n",
       "      <td>5 available / 28 sold</td>\n",
       "      <td>28.0</td>\n",
       "      <td>Apr 30, 2024 19:09:09 PDT</td>\n",
       "      <td>Princeton Junction, New Jersey, United States</td>\n",
       "    </tr>\n",
       "    <tr>\n",
       "      <th>744</th>\n",
       "      <td>Dior</td>\n",
       "      <td>Sauvage Elixir By Dior 2.0oz</td>\n",
       "      <td>Elixir</td>\n",
       "      <td>88.99</td>\n",
       "      <td>US $88.99</td>\n",
       "      <td>5.0</td>\n",
       "      <td>5 available / 4 sold</td>\n",
       "      <td>4.0</td>\n",
       "      <td>May 24, 2024 04:19:41 PDT</td>\n",
       "      <td>Belleville, Michigan, United States</td>\n",
       "    </tr>\n",
       "  </tbody>\n",
       "</table>\n",
       "</div>"
      ],
      "text/plain": [
       "    brand                                              title  \\\n",
       "0    Dior  Christian Dior Sauvage Men's EDP 3.4 oz Fragra...   \n",
       "19   Dior  Dior Sauvage Eau de Toilette 3.4 Oz 100ml Bran...   \n",
       "62   Dior  Sauvage Dior Eau De Parfum MINATURE 10ml / 0.3...   \n",
       "103  Dior  Dior Sauvage EDP Men's Fragrance 3.4 Oz New Se...   \n",
       "236  Dior  Dior SAUVAGE by Christian Dior EDT Men 100 ml ...   \n",
       "283  Dior  Dior Sauvage Eau de Toilette 3.4 Oz 100ml Bran...   \n",
       "286  Dior  Dior SAUVAGE by Christian Dior EDT Men 100 ml ...   \n",
       "375  Dior  Fahrenheit by Christian Dior 3.4 oz EDT Cologn...   \n",
       "492  Dior  DIOR HOMME COLOGNE EAU DE TOILETTE SPRAY 4.2 O...   \n",
       "557  Dior  Eau Sauvage by Christian Dior cologne for men ...   \n",
       "744  Dior                       Sauvage Elixir By Dior 2.0oz   \n",
       "\n",
       "                   type  price priceWithCurrency  available  \\\n",
       "0         Eau de Parfum  84.99      US $84.99/ea       10.0   \n",
       "19      Eau de Toilette  83.95         US $83.95        4.0   \n",
       "62        Eau de Parfum  25.99      US $25.99/ea        6.0   \n",
       "103       Eau de Parfum  84.99      US $84.99/ea        5.0   \n",
       "236     Eau de Toilette  84.99      US $84.99/ea        9.0   \n",
       "283     Eau de Toilette  84.99      US $84.99/ea        9.0   \n",
       "286     Eau de Toilette  84.99      US $84.99/ea       10.0   \n",
       "375     Eau de Toilette  89.98      US $89.98/ea        8.0   \n",
       "492  DIOR HOMME COLOGNE  89.99         US $89.99        7.0   \n",
       "557     Eau de Toilette  67.99      US $67.99/ea        5.0   \n",
       "744              Elixir  88.99         US $88.99        5.0   \n",
       "\n",
       "                         availableText    sold                lastUpdated  \\\n",
       "0    More than 10 available / 116 sold   116.0  May 24, 2024 10:03:04 PDT   \n",
       "19               4 available / 22 sold    22.0  May 22, 2024 14:31:55 PDT   \n",
       "62            6 available / 1,332 sold  1332.0  May 24, 2024 04:03:31 PDT   \n",
       "103              5 available / 73 sold    73.0  May 22, 2024 09:32:15 PDT   \n",
       "236              9 available / 16 sold    16.0  May 24, 2024 05:54:57 PDT   \n",
       "283              9 available / 13 sold    13.0  May 22, 2024 05:35:53 PDT   \n",
       "286   More than 10 available / 51 sold    51.0  May 06, 2024 04:40:12 PDT   \n",
       "375           8 available / 1,243 sold  1243.0  May 22, 2024 01:59:02 PDT   \n",
       "492             7 available / 129 sold   129.0  May 22, 2024 09:17:01 PDT   \n",
       "557              5 available / 28 sold    28.0  Apr 30, 2024 19:09:09 PDT   \n",
       "744               5 available / 4 sold     4.0  May 24, 2024 04:19:41 PDT   \n",
       "\n",
       "                                      itemLocation  \n",
       "0              Allen Park, Michigan, United States  \n",
       "19               Elmhurst, New York, United States  \n",
       "62           Cranston, Rhode Island, United States  \n",
       "103               Detroit, Michigan, United States  \n",
       "236                Warren, Michigan, United States  \n",
       "283                Warren, Michigan, United States  \n",
       "286      Sterling Heights, Michigan, United States  \n",
       "375          Hackensack, New Jersey, United States  \n",
       "492               Union, New Jersey, United States  \n",
       "557  Princeton Junction, New Jersey, United States  \n",
       "744            Belleville, Michigan, United States  "
      ]
     },
     "execution_count": 113,
     "metadata": {},
     "output_type": "execute_result"
    }
   ],
   "source": [
    "man_perfume[man_perfume['brand'] == 'Dior']"
   ]
  },
  {
   "cell_type": "code",
   "execution_count": 114,
   "metadata": {},
   "outputs": [
    {
     "data": {
      "text/html": [
       "<div>\n",
       "<style scoped>\n",
       "    .dataframe tbody tr th:only-of-type {\n",
       "        vertical-align: middle;\n",
       "    }\n",
       "\n",
       "    .dataframe tbody tr th {\n",
       "        vertical-align: top;\n",
       "    }\n",
       "\n",
       "    .dataframe thead th {\n",
       "        text-align: right;\n",
       "    }\n",
       "</style>\n",
       "<table border=\"1\" class=\"dataframe\">\n",
       "  <thead>\n",
       "    <tr style=\"text-align: right;\">\n",
       "      <th></th>\n",
       "      <th>brand</th>\n",
       "      <th>title</th>\n",
       "      <th>type</th>\n",
       "      <th>price</th>\n",
       "      <th>priceWithCurrency</th>\n",
       "      <th>available</th>\n",
       "      <th>availableText</th>\n",
       "      <th>sold</th>\n",
       "      <th>lastUpdated</th>\n",
       "      <th>itemLocation</th>\n",
       "    </tr>\n",
       "  </thead>\n",
       "  <tbody>\n",
       "    <tr>\n",
       "      <th>361</th>\n",
       "      <td>Dior</td>\n",
       "      <td>Dior Miss Dior 0.17 fl oz Women's Eau de Parfum</td>\n",
       "      <td>Eau de Parfum</td>\n",
       "      <td>21.99</td>\n",
       "      <td>US $21.99/ea</td>\n",
       "      <td>3.0</td>\n",
       "      <td>3 available / 83 sold</td>\n",
       "      <td>83.0</td>\n",
       "      <td>May 12, 2024 15:53:04 PDT</td>\n",
       "      <td>Rockville, Maryland, United States</td>\n",
       "    </tr>\n",
       "    <tr>\n",
       "      <th>752</th>\n",
       "      <td>Dior</td>\n",
       "      <td>Christian Dior Addict Eau Fraiche EDT For Wome...</td>\n",
       "      <td>Eau de Toilette</td>\n",
       "      <td>74.99</td>\n",
       "      <td>US $74.99</td>\n",
       "      <td>8.0</td>\n",
       "      <td>8 available / 28 sold</td>\n",
       "      <td>28.0</td>\n",
       "      <td>Mar 01, 2024 11:41:42 PST</td>\n",
       "      <td>Miami, Florida, United States</td>\n",
       "    </tr>\n",
       "    <tr>\n",
       "      <th>884</th>\n",
       "      <td>Dior</td>\n",
       "      <td>Miss Dior Rose N'Roses by Christian Dior for w...</td>\n",
       "      <td>Eau de Toilette</td>\n",
       "      <td>85.67</td>\n",
       "      <td>US $85.67</td>\n",
       "      <td>NaN</td>\n",
       "      <td>Last One / 85 sold</td>\n",
       "      <td>85.0</td>\n",
       "      <td>May 16, 2024 21:23:44 PDT</td>\n",
       "      <td>Dallas, Texas, United States</td>\n",
       "    </tr>\n",
       "    <tr>\n",
       "      <th>915</th>\n",
       "      <td>Dior</td>\n",
       "      <td>NIB {Dior} Miss Dior Rose N Roses Women's Eau ...</td>\n",
       "      <td>Eau de Toilette</td>\n",
       "      <td>19.48</td>\n",
       "      <td>US $19.48</td>\n",
       "      <td>10.0</td>\n",
       "      <td>More than 10 available / 4 sold</td>\n",
       "      <td>4.0</td>\n",
       "      <td>May 10, 2024 17:24:59 PDT</td>\n",
       "      <td>Irvine, California, United States</td>\n",
       "    </tr>\n",
       "  </tbody>\n",
       "</table>\n",
       "</div>"
      ],
      "text/plain": [
       "    brand                                              title             type  \\\n",
       "361  Dior    Dior Miss Dior 0.17 fl oz Women's Eau de Parfum    Eau de Parfum   \n",
       "752  Dior  Christian Dior Addict Eau Fraiche EDT For Wome...  Eau de Toilette   \n",
       "884  Dior  Miss Dior Rose N'Roses by Christian Dior for w...  Eau de Toilette   \n",
       "915  Dior  NIB {Dior} Miss Dior Rose N Roses Women's Eau ...  Eau de Toilette   \n",
       "\n",
       "     price priceWithCurrency  available                    availableText  \\\n",
       "361  21.99      US $21.99/ea        3.0            3 available / 83 sold   \n",
       "752  74.99         US $74.99        8.0            8 available / 28 sold   \n",
       "884  85.67         US $85.67        NaN               Last One / 85 sold   \n",
       "915  19.48         US $19.48       10.0  More than 10 available / 4 sold   \n",
       "\n",
       "     sold                lastUpdated                        itemLocation  \n",
       "361  83.0  May 12, 2024 15:53:04 PDT  Rockville, Maryland, United States  \n",
       "752  28.0  Mar 01, 2024 11:41:42 PST       Miami, Florida, United States  \n",
       "884  85.0  May 16, 2024 21:23:44 PDT        Dallas, Texas, United States  \n",
       "915   4.0  May 10, 2024 17:24:59 PDT   Irvine, California, United States  "
      ]
     },
     "execution_count": 114,
     "metadata": {},
     "output_type": "execute_result"
    }
   ],
   "source": [
    "woman_perfume[woman_perfume['brand'] == 'Dior']"
   ]
  },
  {
   "cell_type": "code",
   "execution_count": 115,
   "metadata": {},
   "outputs": [],
   "source": [
    "def merge_df(df1,df2):\n",
    "    df1['gender'] = 'Men'\n",
    "    df2['gender'] = 'Women'\n",
    "\n",
    "    df = pd.concat([df1,df2])\n",
    "    df = df[['brand', 'type', 'price', 'available',\n",
    "        'sold', 'itemLocation','gender']]\n",
    "    return df\n",
    "    "
   ]
  },
  {
   "cell_type": "code",
   "execution_count": 116,
   "metadata": {},
   "outputs": [],
   "source": [
    "df = merge_df(man_perfume,woman_perfume)"
   ]
  },
  {
   "cell_type": "code",
   "execution_count": 117,
   "metadata": {},
   "outputs": [
    {
     "data": {
      "text/plain": [
       "(2000, 7)"
      ]
     },
     "execution_count": 117,
     "metadata": {},
     "output_type": "execute_result"
    }
   ],
   "source": [
    "df.shape"
   ]
  },
  {
   "cell_type": "code",
   "execution_count": 118,
   "metadata": {},
   "outputs": [
    {
     "data": {
      "text/html": [
       "<div>\n",
       "<style scoped>\n",
       "    .dataframe tbody tr th:only-of-type {\n",
       "        vertical-align: middle;\n",
       "    }\n",
       "\n",
       "    .dataframe tbody tr th {\n",
       "        vertical-align: top;\n",
       "    }\n",
       "\n",
       "    .dataframe thead th {\n",
       "        text-align: right;\n",
       "    }\n",
       "</style>\n",
       "<table border=\"1\" class=\"dataframe\">\n",
       "  <thead>\n",
       "    <tr style=\"text-align: right;\">\n",
       "      <th></th>\n",
       "      <th>brand</th>\n",
       "      <th>type</th>\n",
       "      <th>price</th>\n",
       "      <th>available</th>\n",
       "      <th>sold</th>\n",
       "      <th>itemLocation</th>\n",
       "      <th>gender</th>\n",
       "    </tr>\n",
       "  </thead>\n",
       "  <tbody>\n",
       "    <tr>\n",
       "      <th>0</th>\n",
       "      <td>Dior</td>\n",
       "      <td>Eau de Parfum</td>\n",
       "      <td>84.99</td>\n",
       "      <td>10.0</td>\n",
       "      <td>116.0</td>\n",
       "      <td>Allen Park, Michigan, United States</td>\n",
       "      <td>Men</td>\n",
       "    </tr>\n",
       "    <tr>\n",
       "      <th>1</th>\n",
       "      <td>AS SHOW</td>\n",
       "      <td>Eau de Parfum</td>\n",
       "      <td>109.99</td>\n",
       "      <td>8.0</td>\n",
       "      <td>48.0</td>\n",
       "      <td>Atlanta, Georgia, Canada</td>\n",
       "      <td>Men</td>\n",
       "    </tr>\n",
       "    <tr>\n",
       "      <th>2</th>\n",
       "      <td>Unbranded</td>\n",
       "      <td>Eau de Toilette</td>\n",
       "      <td>100.00</td>\n",
       "      <td>10.0</td>\n",
       "      <td>27.0</td>\n",
       "      <td>Dearborn, Michigan, United States</td>\n",
       "      <td>Men</td>\n",
       "    </tr>\n",
       "    <tr>\n",
       "      <th>3</th>\n",
       "      <td>Giorgio Armani</td>\n",
       "      <td>Eau de Toilette</td>\n",
       "      <td>44.99</td>\n",
       "      <td>2.0</td>\n",
       "      <td>159.0</td>\n",
       "      <td>Reinholds, Pennsylvania, United States</td>\n",
       "      <td>Men</td>\n",
       "    </tr>\n",
       "    <tr>\n",
       "      <th>4</th>\n",
       "      <td>Lattafa</td>\n",
       "      <td>Fragrances</td>\n",
       "      <td>16.91</td>\n",
       "      <td>NaN</td>\n",
       "      <td>156.0</td>\n",
       "      <td>Brooklyn, New York, United States</td>\n",
       "      <td>Men</td>\n",
       "    </tr>\n",
       "  </tbody>\n",
       "</table>\n",
       "</div>"
      ],
      "text/plain": [
       "            brand             type   price  available   sold  \\\n",
       "0            Dior    Eau de Parfum   84.99       10.0  116.0   \n",
       "1         AS SHOW    Eau de Parfum  109.99        8.0   48.0   \n",
       "2       Unbranded  Eau de Toilette  100.00       10.0   27.0   \n",
       "3  Giorgio Armani  Eau de Toilette   44.99        2.0  159.0   \n",
       "4         Lattafa       Fragrances   16.91        NaN  156.0   \n",
       "\n",
       "                             itemLocation gender  \n",
       "0     Allen Park, Michigan, United States    Men  \n",
       "1                Atlanta, Georgia, Canada    Men  \n",
       "2       Dearborn, Michigan, United States    Men  \n",
       "3  Reinholds, Pennsylvania, United States    Men  \n",
       "4       Brooklyn, New York, United States    Men  "
      ]
     },
     "execution_count": 118,
     "metadata": {},
     "output_type": "execute_result"
    }
   ],
   "source": [
    "df.head()"
   ]
  },
  {
   "cell_type": "code",
   "execution_count": 119,
   "metadata": {},
   "outputs": [
    {
     "name": "stdout",
     "output_type": "stream",
     "text": [
      "<class 'pandas.core.frame.DataFrame'>\n",
      "Index: 2000 entries, 0 to 999\n",
      "Data columns (total 7 columns):\n",
      " #   Column        Non-Null Count  Dtype  \n",
      "---  ------        --------------  -----  \n",
      " 0   brand         1998 non-null   object \n",
      " 1   type          1995 non-null   object \n",
      " 2   price         2000 non-null   float64\n",
      " 3   available     1758 non-null   float64\n",
      " 4   sold          1978 non-null   float64\n",
      " 5   itemLocation  2000 non-null   object \n",
      " 6   gender        2000 non-null   object \n",
      "dtypes: float64(3), object(4)\n",
      "memory usage: 125.0+ KB\n"
     ]
    }
   ],
   "source": [
    "df.info()"
   ]
  },
  {
   "cell_type": "code",
   "execution_count": 120,
   "metadata": {},
   "outputs": [
    {
     "data": {
      "text/plain": [
       "brand             2\n",
       "type              5\n",
       "price             0\n",
       "available       242\n",
       "sold             22\n",
       "itemLocation      0\n",
       "gender            0\n",
       "dtype: int64"
      ]
     },
     "execution_count": 120,
     "metadata": {},
     "output_type": "execute_result"
    }
   ],
   "source": [
    "df.isna().sum()"
   ]
  },
  {
   "cell_type": "code",
   "execution_count": 121,
   "metadata": {},
   "outputs": [],
   "source": [
    "df['available'] = pd.to_numeric(df['available'], errors='coerce')"
   ]
  },
  {
   "cell_type": "code",
   "execution_count": 122,
   "metadata": {},
   "outputs": [
    {
     "data": {
      "text/plain": [
       "sold\n",
       "4.0        50\n",
       "5.0        47\n",
       "3.0        47\n",
       "8.0        42\n",
       "7.0        36\n",
       "           ..\n",
       "12739.0     1\n",
       "293.0       1\n",
       "105.0       1\n",
       "6188.0      1\n",
       "175.0       1\n",
       "Name: count, Length: 670, dtype: int64"
      ]
     },
     "execution_count": 122,
     "metadata": {},
     "output_type": "execute_result"
    }
   ],
   "source": [
    "df['sold'].value_counts()"
   ]
  },
  {
   "cell_type": "code",
   "execution_count": 128,
   "metadata": {},
   "outputs": [
    {
     "data": {
      "text/plain": [
       "(39.892979999999994, 46.4812)"
      ]
     },
     "execution_count": 128,
     "metadata": {},
     "output_type": "execute_result"
    }
   ],
   "source": [
    "np.mean(df[df['gender']=='Women']['price']), np.mean(df[df['gender']=='Men']['price'])"
   ]
  },
  {
   "cell_type": "code",
   "execution_count": 129,
   "metadata": {},
   "outputs": [
    {
     "data": {
      "text/plain": [
       "(489364.0, 761669.0)"
      ]
     },
     "execution_count": 129,
     "metadata": {},
     "output_type": "execute_result"
    }
   ],
   "source": [
    "np.sum(df[df['gender']=='Women']['sold']), np.sum(df[df['gender']=='Men']['sold'])"
   ]
  },
  {
   "cell_type": "code",
   "execution_count": 131,
   "metadata": {},
   "outputs": [
    {
     "data": {
      "text/plain": [
       "(18620.0, 17821.0)"
      ]
     },
     "execution_count": 131,
     "metadata": {},
     "output_type": "execute_result"
    }
   ],
   "source": [
    "np.sum(df[df['gender']=='Women']['available']), np.sum(df[df['gender']=='Men']['available'])"
   ]
  },
  {
   "cell_type": "code",
   "execution_count": 140,
   "metadata": {},
   "outputs": [],
   "source": [
    "def compare_brand(brand):\n",
    "    men_q = df[(df['gender']=='Men') & (df['brand']==brand)]\n",
    "    women_q = df[(df['gender']=='Women') & (df['brand']==brand)]\n",
    "\n",
    "    print(f'Men : Brand- {brand} \\n Total sold : {sum(men_q.sold)} \\n Available : {sum(men_q.available)} \\n Average Price : {np.mean(men_q.sold)}')\n",
    "    print('\\n\\n\\n')\n",
    "    print(f'Women : Brand- {brand} \\n Total sold : {sum(women_q.sold)} \\n Available : {sum(women_q.available)} \\n Average Price : {np.mean(women_q.sold)}')\n",
    "    # return men_q, women_q"
   ]
  },
  {
   "cell_type": "code",
   "execution_count": 142,
   "metadata": {},
   "outputs": [
    {
     "name": "stdout",
     "output_type": "stream",
     "text": [
      "Men : Brand- Unbranded \n",
      " Total sold : 3896.0 \n",
      " Available : nan \n",
      " Average Price : 99.8974358974359\n",
      "\n",
      "\n",
      "\n",
      "\n",
      "Women : Brand- Unbranded \n",
      " Total sold : 933.0 \n",
      " Available : 676.0 \n",
      " Average Price : 84.81818181818181\n"
     ]
    }
   ],
   "source": [
    "compare_brand(\"Unbranded\")"
   ]
  },
  {
   "cell_type": "code",
   "execution_count": 150,
   "metadata": {},
   "outputs": [
    {
     "data": {
      "image/png": "[encoded data removed]",
      "text/plain": [
       "<Figure size 640x480 with 1 Axes>"
      ]
     },
     "metadata": {},
     "output_type": "display_data"
    }
   ],
   "source": [
    "df[df['gender']=='Men']['brand'].value_counts()[:10].plot(kind='bar')\n",
    "plt.title('Top 10 Company for Men')\n",
    "plt.show()"
   ]
  },
  {
   "cell_type": "code",
   "execution_count": 151,
   "metadata": {},
   "outputs": [
    {
     "data": {
      "image/png": "[encoded data removed]",
      "text/plain": [
       "<Figure size 640x480 with 1 Axes>"
      ]
     },
     "metadata": {},
     "output_type": "display_data"
    }
   ],
   "source": [
    "df[df['gender']=='Women']['brand'].value_counts()[:10].plot(kind='bar')\n",
    "plt.title('Top 10 Company for Women')\n",
    "plt.show()"
   ]
  },
  {
   "cell_type": "code",
   "execution_count": 181,
   "metadata": {},
   "outputs": [
    {
     "data": {
      "image/png": "[encoded data removed]",
      "text/plain": [
       "<Figure size 1200x800 with 1 Axes>"
      ]
     },
     "metadata": {},
     "output_type": "display_data"
    }
   ],
   "source": [
    "brand_gender_sales = df[df['gender']=='Men'].groupby(['brand'])['sold'].sum()#.unstack()\n",
    "\n",
    "# Plot the aggregated sales data\n",
    "ax = brand_gender_sales[:10].plot(kind='bar', stacked=True, figsize=(12, 8))"
   ]
  },
  {
   "cell_type": "code",
   "execution_count": 183,
   "metadata": {},
   "outputs": [
    {
     "data": {
      "image/png": "[encoded data removed]",
      "text/plain": [
       "<Figure size 1200x800 with 1 Axes>"
      ]
     },
     "metadata": {},
     "output_type": "display_data"
    }
   ],
   "source": [
    "brand_gender_sales = df[df['gender']=='Women'].groupby(['brand'])['sold'].sum()#.unstack()\n",
    "\n",
    "# Plot the aggregated sales data\n",
    "ax = brand_gender_sales[:10].plot(kind='bar', stacked=True, figsize=(12, 8))"
   ]
  },
  {
   "cell_type": "code",
   "execution_count": null,
   "metadata": {},
   "outputs": [],
   "source": []
  }
 ],
 "metadata": {
  "kernelspec": {
   "display_name": ".venv",
   "language": "python",
   "name": "python3"
  },
  "language_info": {
   "codemirror_mode": {
    "name": "ipython",
    "version": 3
   },
   "file_extension": ".py",
   "mimetype": "text/x-python",
   "name": "python",
   "nbconvert_exporter": "python",
   "pygments_lexer": "ipython3",
   "version": "3.11.4"
  }
 },
 "nbformat": 4,
 "nbformat_minor": 2
}
